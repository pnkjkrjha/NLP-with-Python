{
 "cells": [
  {
   "cell_type": "code",
   "execution_count": 62,
   "metadata": {},
   "outputs": [],
   "source": [
    "from nltk.book import *"
   ]
  },
  {
   "cell_type": "markdown",
   "metadata": {},
   "source": [
    "# Python\n",
    "\n",
    "* Searching Text\n",
    "* concoradance -> lines where word is present with text\n",
    "* similar -> words similar \n",
    "* common_context_words -> used with all the list of words provided\n",
    "* dispersion_plot -> To find changes in language over time"
   ]
  },
  {
   "cell_type": "code",
   "execution_count": 115,
   "metadata": {},
   "outputs": [
    {
     "name": "stdout",
     "output_type": "stream",
     "text": [
      "Displaying 11 of 11 matches:\n",
      "g the former , one was of a most monstrous size . ... This came towards us \n",
      " OF THE PSALMS . \" Touching that monstrous bulk of the whale or ork we have\n",
      " over with a heathenish array of monstrous clubs and spears . Some were thi\n",
      "as you gazed , and wondered what monstrous cannibal and savage could ever h\n",
      "at has survived the flood ; most monstrous and most mountainous ! That Himm\n",
      "ey might scout at Moby Dick as a monstrous fable , or still worse and more \n",
      " of Radney .'\" CHAPTER 55 Of the Monstrous Pictures of Whales . I shall ere\n",
      "g Scenes . In connexion with the monstrous pictures of whales , I am strong\n",
      "e to enter upon those still more monstrous stories of them which are to be \n",
      "t have been rummaged out of this monstrous cabinet there is no telling . Bu\n",
      " Whale - Bones ; for Whales of a monstrous size are oftentimes cast up dead\n",
      "true contemptible christian abundant few part mean careful puzzled\n",
      "mystifying passing curious loving wise doleful gamesome singular\n",
      "delightfully perilous fearless\n",
      "most_and\n"
     ]
    },
    {
     "data": {
      "image/png": "[encoded data removed]",
      "text/plain": [
       "<matplotlib.figure.Figure at 0x11545ff28>"
      ]
     },
     "metadata": {},
     "output_type": "display_data"
    }
   ],
   "source": [
    "#Searching text with context\n",
    "text1.concordance(word=\"monstrous\", lines=87, width=75)\n",
    "#Similar words\n",
    "text1.similar(\"monstrous\")\n",
    "#Find Common surrounding words  \n",
    "text1.common_contexts(words=[\"monstrous\", \"doleful\"], num=5)\n",
    "text4.dispersion_plot([\"liberty\", \"freedom\", \"citizens\"])\n"
   ]
  },
  {
   "cell_type": "code",
   "execution_count": 138,
   "metadata": {},
   "outputs": [
    {
     "name": "stdout",
     "output_type": "stream",
     "text": [
      "7.420046158918563\n",
      "14.941049825712529\n",
      "16.050197203298673\n",
      "20.719449729255086\n",
      "13.502044830977896\n",
      "1.5640968673628082\n"
     ]
    }
   ],
   "source": [
    "from __future__ import division\n",
    "\n",
    "def percentage(count, length):\n",
    "    return 100 * count / length;\n",
    "\n",
    "def lexical_diversity(text):\n",
    "    return len(text)/len(set(text));\n",
    "\n",
    "print(lexical_diversity(text5))\n",
    "print(lexical_diversity(text4))\n",
    "print(lexical_diversity(text3))\n",
    "print(lexical_diversity(text2))\n",
    "print(lexical_diversity(text1))\n",
    "print(percentage(text5.count(\"lol\"), len(text5)));"
   ]
  },
  {
   "cell_type": "code",
   "execution_count": 136,
   "metadata": {},
   "outputs": [
    {
     "name": "stdout",
     "output_type": "stream",
     "text": [
      "awaken\n",
      "['Third', 'Third', 'hello', 'hello', 'hello', 'hello', 'hello', 'hello', 'hello', 'hello', 'hello', 'hello', 'hello']\n",
      "['Third', 'Third', 'hello', 'hello', 'hello', 'hello', 'hello', 'hello', 'hello', 'hello', 'hello', 'hello', 'hello']\n",
      "['Pankaj', 'Kumar']\n",
      "['P', 'nk', 'j Kum', 'r']\n"
     ]
    }
   ],
   "source": [
    "# indexing with lists \n",
    "\n",
    "ind = text4.index(word=\"awaken\")\n",
    "\n",
    "print(text4[ind]);\n",
    "\n",
    "len(sent1)\n",
    "lexical_diversity(sent1)\n",
    "sent1.append(\"hello\")\n",
    "print(sent1)\n",
    "len(sent1)\n",
    "sent1[:1] = [\"Third\"]\n",
    "print(sent1)\n",
    "\n",
    "\n",
    "# Strings \n",
    "\n",
    "firstName = \"Pankaj\"\n",
    "lastName = \"Kumar\"\n",
    "fullName = firstName + \" \" + lastName;\n",
    "' '.join([\"pankaj\" , \"kumar\"])\n",
    "\n",
    "print(fullName.split());# Default takes space\n",
    "print(fullName.split(\"a\"));\n",
    "\n"
   ]
  },
  {
   "cell_type": "markdown",
   "metadata": {},
   "source": [
    "* Frequency distribution"
   ]
  },
  {
   "cell_type": "code",
   "execution_count": 135,
   "metadata": {},
   "outputs": [
    {
     "name": "stdout",
     "output_type": "stream",
     "text": [
      "['In', 'the', 'beginning', 'God', 'created', 'the', 'heaven', 'and', 'the', 'earth', '.']\n"
     ]
    },
    {
     "data": {
      "image/png": "[encoded data removed]",
      "text/plain": [
       "<matplotlib.figure.Figure at 0x1282d84a8>"
      ]
     },
     "metadata": {},
     "output_type": "display_data"
    },
    {
     "data": {
      "text/plain": [
       "nltk.probability.FreqDist"
      ]
     },
     "execution_count": 135,
     "metadata": {},
     "output_type": "execute_result"
    }
   ],
   "source": [
    "print(sent3)\n",
    "freqdist1 = FreqDist(sent1)\n",
    "freqdist1.plot()\n",
    "type(freqdist1)"
   ]
  },
  {
   "cell_type": "code",
   "execution_count": 148,
   "metadata": {},
   "outputs": [
    {
     "name": "stdout",
     "output_type": "stream",
     "text": [
      "['third', 'Third', 'hello', 'hello', 'third', 'third', 'third', 'third']\n"
     ]
    },
    {
     "data": {
      "image/png": "[encoded data removed]",
      "text/plain": [
       "<matplotlib.figure.Figure at 0x11eb72f60>"
      ]
     },
     "metadata": {},
     "output_type": "display_data"
    },
    {
     "data": {
      "text/plain": [
       "['Third']"
      ]
     },
     "execution_count": 148,
     "metadata": {},
     "output_type": "execute_result"
    }
   ],
   "source": [
    "print(sent1)\n",
    "sent1[4:9] = [\"third\", \"third\", \"third\", \"third\"];\n",
    "freqdist2 = FreqDist(sent1)\n",
    "# Prints most occurred word first \n",
    "freqdist2.plot(cumulative=False)\n",
    "type(freqdist2)\n",
    "\n",
    "\n",
    "# The list of words which occurs only once.\n",
    "\n",
    "freqdist2.hapaxes()"
   ]
  },
  {
   "cell_type": "code",
   "execution_count": 160,
   "metadata": {},
   "outputs": [
    {
     "name": "stdout",
     "output_type": "stream",
     "text": [
      "['companionableness', 'incomprehensible', 'disinterestedness', 'disqualifications']\n",
      "23\n",
      "<class 'nltk.probability.FreqDist'>\n",
      "['unfortunate', 'invitation', 'attachment', 'resolution', 'persuasion', 'assistance', 'themselves', 'compassion', 'impossible', 'politeness', 'friendship', 'particulars', 'consequence', 'determined', 'acknowledged', 'intelligence', 'Willoughby', 'especially', 'employment', 'reasonable', 'understand', 'disappointment', 'particular', 'consideration', 'particularly', 'expectation', 'absolutely', 'possession', 'reflection', 'Devonshire', 'Middletons', 'recommended', 'reasonably', 'probability', 'admiration', 'confidence', 'unnecessary', 'circumstances', 'observation', 'frequently', 'connection', 'conscience', 'explanation', 'acknowledge', 'altogether', 'assurances', 'consciousness', 'everything', 'imprudence', 'interested', 'engagements', 'conviction', 'resemblance', 'indifference', 'imagination', 'countenance', 'partiality', 'opportunity', 'afterwards', 'engagement', 'disappointed', 'alteration', 'expression', 'opposition', 'inclination', 'uncomfortable', 'inconvenience', 'astonished', 'astonishment', 'exceedingly', 'profession', 'encouragement', 'consolation', 'difficulty', 'thoroughly', 'communication', 'circumstance', 'indifferent', 'acquainted', 'cheerfulness', 'interesting', 'respectable', 'endeavouring', 'affliction', 'neighbourhood', 'information', 'comfortable', 'understanding', 'disposition', 'considered', 'importance', 'satisfaction', 'tenderness', 'established', 'melancholy', 'acquaintance', 'affections', 'indignation', 'understood', 'sentiments', 'delightful', 'considerable', 'solicitude', 'remembrance', 'conversation', 'difficulties', 'approbation', 'recollection', 'appearance', 'comparison', 'difference', 'affectionate', 'immediately']\n"
     ]
    }
   ],
   "source": [
    "# Granular selection \n",
    "# long words of the text \n",
    "\n",
    "words = set(text2);\n",
    "long_words = [w for w in words if len(w) > 15]\n",
    "print(long_words)\n",
    "fdist3 = FreqDist(text2);\n",
    "print(fdist3['unfortunate']);\n",
    "print(type(fdist3));\n",
    "long_words_with_better_freq= [ w for w in words if len(w) > 9 and fdist3[w]>9];\n",
    "print(long_words_with_better_freq)"
   ]
  },
  {
   "cell_type": "code",
   "execution_count": 176,
   "metadata": {},
   "outputs": [
    {
     "name": "stdout",
     "output_type": "stream",
     "text": [
      "Sperm Whale; Moby Dick; White Whale; old man; Captain Ahab; sperm\n",
      "whale; Right Whale; Captain Peleg; New Bedford; Cape Horn; cried Ahab;\n",
      "years ago; lower jaw; never mind; Father Mapple; cried Stubb; chief\n",
      "mate; white whale; ivory leg; one hand\n",
      "[('third', 'Third'), ('Third', 'hello'), ('hello', 'hello'), ('hello', 'third'), ('third', 'third'), ('third', 'third'), ('third', 'third')]\n"
     ]
    }
   ],
   "source": [
    "text1.collocations()\n",
    "from nltk import bigrams\n",
    "big = list(bigrams(sent1))\n",
    "print(big)"
   ]
  },
  {
   "cell_type": "code",
   "execution_count": 188,
   "metadata": {},
   "outputs": [
    {
     "name": "stdout",
     "output_type": "stream",
     "text": [
      "['austen-emma.txt', 'austen-persuasion.txt', 'austen-sense.txt', 'bible-kjv.txt', 'blake-poems.txt', 'bryant-stories.txt', 'burgess-busterbrown.txt', 'carroll-alice.txt', 'chesterton-ball.txt', 'chesterton-brown.txt', 'chesterton-thursday.txt', 'edgeworth-parents.txt', 'melville-moby_dick.txt', 'milton-paradise.txt', 'shakespeare-caesar.txt', 'shakespeare-hamlet.txt', 'shakespeare-macbeth.txt', 'whitman-leaves.txt']\n"
     ]
    },
    {
     "data": {
      "text/plain": [
       "192427"
      ]
     },
     "execution_count": 188,
     "metadata": {},
     "output_type": "execute_result"
    }
   ],
   "source": [
    "import nltk \n",
    "print(nltk.corpus.gutenberg.fileids());\n",
    "emma = nltk.corpus.gutenberg.words('austen-emma.txt');\n",
    "len(emma)"
   ]
  },
  {
   "cell_type": "code",
   "execution_count": null,
   "metadata": {},
   "outputs": [],
   "source": []
  }
 ],
 "metadata": {
  "kernelspec": {
   "display_name": "Python 3",
   "language": "python",
   "name": "python3"
  },
  "language_info": {
   "codemirror_mode": {
    "name": "ipython",
    "version": 3
   },
   "file_extension": ".py",
   "mimetype": "text/x-python",
   "name": "python",
   "nbconvert_exporter": "python",
   "pygments_lexer": "ipython3",
   "version": "3.6.2"
  }
 },
 "nbformat": 4,
 "nbformat_minor": 2
}
